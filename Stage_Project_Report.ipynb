{
 "cells": [
  {
   "cell_type": "markdown",
   "metadata": {},
   "source": [
    "# Analyze Titanic Data"
   ]
  },
  {
   "cell_type": "markdown",
   "metadata": {},
   "source": [
    "# My Target Question"
   ]
  },
  {
   "cell_type": "markdown",
   "metadata": {},
   "source": [
    "My target question - **Find factors that may influence survival rate in Titanic disaster.**"
   ]
  },
  {
   "cell_type": "markdown",
   "metadata": {},
   "source": [
    "# Import Titanic Data"
   ]
  },
  {
   "cell_type": "code",
   "execution_count": 35,
   "metadata": {
    "collapsed": false
   },
   "outputs": [
    {
     "name": "stdout",
     "output_type": "stream",
     "text": [
      "Original data:\n"
     ]
    },
    {
     "data": {
      "text/html": [
       "<div>\n",
       "<table border=\"1\" class=\"dataframe\">\n",
       "  <thead>\n",
       "    <tr style=\"text-align: right;\">\n",
       "      <th></th>\n",
       "      <th>PassengerId</th>\n",
       "      <th>Survived</th>\n",
       "      <th>Pclass</th>\n",
       "      <th>Name</th>\n",
       "      <th>Sex</th>\n",
       "      <th>Age</th>\n",
       "      <th>SibSp</th>\n",
       "      <th>Parch</th>\n",
       "      <th>Ticket</th>\n",
       "      <th>Fare</th>\n",
       "      <th>Cabin</th>\n",
       "      <th>Embarked</th>\n",
       "    </tr>\n",
       "  </thead>\n",
       "  <tbody>\n",
       "    <tr>\n",
       "      <th>0</th>\n",
       "      <td>1</td>\n",
       "      <td>0</td>\n",
       "      <td>3</td>\n",
       "      <td>Braund, Mr. Owen Harris</td>\n",
       "      <td>male</td>\n",
       "      <td>22.0</td>\n",
       "      <td>1</td>\n",
       "      <td>0</td>\n",
       "      <td>A/5 21171</td>\n",
       "      <td>7.2500</td>\n",
       "      <td>NaN</td>\n",
       "      <td>S</td>\n",
       "    </tr>\n",
       "    <tr>\n",
       "      <th>1</th>\n",
       "      <td>2</td>\n",
       "      <td>1</td>\n",
       "      <td>1</td>\n",
       "      <td>Cumings, Mrs. John Bradley (Florence Briggs Th...</td>\n",
       "      <td>female</td>\n",
       "      <td>38.0</td>\n",
       "      <td>1</td>\n",
       "      <td>0</td>\n",
       "      <td>PC 17599</td>\n",
       "      <td>71.2833</td>\n",
       "      <td>C85</td>\n",
       "      <td>C</td>\n",
       "    </tr>\n",
       "    <tr>\n",
       "      <th>2</th>\n",
       "      <td>3</td>\n",
       "      <td>1</td>\n",
       "      <td>3</td>\n",
       "      <td>Heikkinen, Miss. Laina</td>\n",
       "      <td>female</td>\n",
       "      <td>26.0</td>\n",
       "      <td>0</td>\n",
       "      <td>0</td>\n",
       "      <td>STON/O2. 3101282</td>\n",
       "      <td>7.9250</td>\n",
       "      <td>NaN</td>\n",
       "      <td>S</td>\n",
       "    </tr>\n",
       "    <tr>\n",
       "      <th>3</th>\n",
       "      <td>4</td>\n",
       "      <td>1</td>\n",
       "      <td>1</td>\n",
       "      <td>Futrelle, Mrs. Jacques Heath (Lily May Peel)</td>\n",
       "      <td>female</td>\n",
       "      <td>35.0</td>\n",
       "      <td>1</td>\n",
       "      <td>0</td>\n",
       "      <td>113803</td>\n",
       "      <td>53.1000</td>\n",
       "      <td>C123</td>\n",
       "      <td>S</td>\n",
       "    </tr>\n",
       "    <tr>\n",
       "      <th>4</th>\n",
       "      <td>5</td>\n",
       "      <td>0</td>\n",
       "      <td>3</td>\n",
       "      <td>Allen, Mr. William Henry</td>\n",
       "      <td>male</td>\n",
       "      <td>35.0</td>\n",
       "      <td>0</td>\n",
       "      <td>0</td>\n",
       "      <td>373450</td>\n",
       "      <td>8.0500</td>\n",
       "      <td>NaN</td>\n",
       "      <td>S</td>\n",
       "    </tr>\n",
       "  </tbody>\n",
       "</table>\n",
       "</div>"
      ],
      "text/plain": [
       "   PassengerId  Survived  Pclass  \\\n",
       "0            1         0       3   \n",
       "1            2         1       1   \n",
       "2            3         1       3   \n",
       "3            4         1       1   \n",
       "4            5         0       3   \n",
       "\n",
       "                                                Name     Sex   Age  SibSp  \\\n",
       "0                            Braund, Mr. Owen Harris    male  22.0      1   \n",
       "1  Cumings, Mrs. John Bradley (Florence Briggs Th...  female  38.0      1   \n",
       "2                             Heikkinen, Miss. Laina  female  26.0      0   \n",
       "3       Futrelle, Mrs. Jacques Heath (Lily May Peel)  female  35.0      1   \n",
       "4                           Allen, Mr. William Henry    male  35.0      0   \n",
       "\n",
       "   Parch            Ticket     Fare Cabin Embarked  \n",
       "0      0         A/5 21171   7.2500   NaN        S  \n",
       "1      0          PC 17599  71.2833   C85        C  \n",
       "2      0  STON/O2. 3101282   7.9250   NaN        S  \n",
       "3      0            113803  53.1000  C123        S  \n",
       "4      0            373450   8.0500   NaN        S  "
      ]
     },
     "execution_count": 35,
     "metadata": {},
     "output_type": "execute_result"
    }
   ],
   "source": [
    "import unicodecsv\n",
    "import pandas as pd\n",
    "import numpy as np\n",
    "import matplotlib.pyplot as plt\n",
    "import seaborn as sns\n",
    "import scipy.stats as sp\n",
    "%matplotlib inline\n",
    "\n",
    "# get titanic-data csv files as a DataFrame and display\n",
    "titanic_df = pd.read_csv(\"titanic-data.csv\")\n",
    "print 'Original data:'\n",
    "titanic_df.head()"
   ]
  },
  {
   "cell_type": "markdown",
   "metadata": {},
   "source": [
    "# Drop non-informative columns"
   ]
  },
  {
   "cell_type": "markdown",
   "metadata": {},
   "source": [
    "My target to find factors that will influence people survive. Since intuitively, **Name**, **Ticket**, **PassengerId** are totally irrelevant to my goal, I will drop these columns."
   ]
  },
  {
   "cell_type": "code",
   "execution_count": 36,
   "metadata": {
    "collapsed": false
   },
   "outputs": [
    {
     "data": {
      "text/html": [
       "<div>\n",
       "<table border=\"1\" class=\"dataframe\">\n",
       "  <thead>\n",
       "    <tr style=\"text-align: right;\">\n",
       "      <th></th>\n",
       "      <th>Survived</th>\n",
       "      <th>Pclass</th>\n",
       "      <th>Sex</th>\n",
       "      <th>Age</th>\n",
       "      <th>SibSp</th>\n",
       "      <th>Parch</th>\n",
       "      <th>Fare</th>\n",
       "      <th>Cabin</th>\n",
       "      <th>Embarked</th>\n",
       "    </tr>\n",
       "  </thead>\n",
       "  <tbody>\n",
       "    <tr>\n",
       "      <th>0</th>\n",
       "      <td>0</td>\n",
       "      <td>3</td>\n",
       "      <td>male</td>\n",
       "      <td>22.0</td>\n",
       "      <td>1</td>\n",
       "      <td>0</td>\n",
       "      <td>7.2500</td>\n",
       "      <td>NaN</td>\n",
       "      <td>S</td>\n",
       "    </tr>\n",
       "    <tr>\n",
       "      <th>1</th>\n",
       "      <td>1</td>\n",
       "      <td>1</td>\n",
       "      <td>female</td>\n",
       "      <td>38.0</td>\n",
       "      <td>1</td>\n",
       "      <td>0</td>\n",
       "      <td>71.2833</td>\n",
       "      <td>C85</td>\n",
       "      <td>C</td>\n",
       "    </tr>\n",
       "    <tr>\n",
       "      <th>2</th>\n",
       "      <td>1</td>\n",
       "      <td>3</td>\n",
       "      <td>female</td>\n",
       "      <td>26.0</td>\n",
       "      <td>0</td>\n",
       "      <td>0</td>\n",
       "      <td>7.9250</td>\n",
       "      <td>NaN</td>\n",
       "      <td>S</td>\n",
       "    </tr>\n",
       "    <tr>\n",
       "      <th>3</th>\n",
       "      <td>1</td>\n",
       "      <td>1</td>\n",
       "      <td>female</td>\n",
       "      <td>35.0</td>\n",
       "      <td>1</td>\n",
       "      <td>0</td>\n",
       "      <td>53.1000</td>\n",
       "      <td>C123</td>\n",
       "      <td>S</td>\n",
       "    </tr>\n",
       "    <tr>\n",
       "      <th>4</th>\n",
       "      <td>0</td>\n",
       "      <td>3</td>\n",
       "      <td>male</td>\n",
       "      <td>35.0</td>\n",
       "      <td>0</td>\n",
       "      <td>0</td>\n",
       "      <td>8.0500</td>\n",
       "      <td>NaN</td>\n",
       "      <td>S</td>\n",
       "    </tr>\n",
       "  </tbody>\n",
       "</table>\n",
       "</div>"
      ],
      "text/plain": [
       "   Survived  Pclass     Sex   Age  SibSp  Parch     Fare Cabin Embarked\n",
       "0         0       3    male  22.0      1      0   7.2500   NaN        S\n",
       "1         1       1  female  38.0      1      0  71.2833   C85        C\n",
       "2         1       3  female  26.0      0      0   7.9250   NaN        S\n",
       "3         1       1  female  35.0      1      0  53.1000  C123        S\n",
       "4         0       3    male  35.0      0      0   8.0500   NaN        S"
      ]
     },
     "execution_count": 36,
     "metadata": {},
     "output_type": "execute_result"
    }
   ],
   "source": [
    "# Drop three unreleveant feature - Name, Ticket and PassengerId and display\n",
    "titanic_df = titanic_df.drop(['PassengerId', 'Name', 'Ticket'], axis = 1)\n",
    "titanic_df.head()"
   ]
  },
  {
   "cell_type": "markdown",
   "metadata": {},
   "source": [
    "# Data formating and cleaning"
   ]
  },
  {
   "cell_type": "markdown",
   "metadata": {},
   "source": [
    "* In order to change data types of titanic properly, I should first see its original data types.\n",
    "* Test whether there are missing values in each column.\n",
    "* I changed data type of **Survived** from int to boolean because this is more intuitive.\n",
    "* I will not try to fill in any missing values of **Age**, instead when using this feature, I just drop any data rows whose **Age** value is missing.\n",
    "* For **Cabin**, since too much percentage of NaN exists, it is not informative enough. So I simply drop it.\n",
    "* For **Embarked**, because very few of them is NaN. So I drop data rows with unvalid **Embarked** value."
   ]
  },
  {
   "cell_type": "code",
   "execution_count": 37,
   "metadata": {
    "collapsed": false
   },
   "outputs": [],
   "source": [
    "# return how many data rows with unvalid value for specified column name.    \n",
    "def num_not_valid(name):\n",
    "    test = titanic_df[name] >= 0\n",
    "    return len(titanic_df[test == False])"
   ]
  },
  {
   "cell_type": "markdown",
   "metadata": {},
   "source": [
    "**Note:** For each feature, I add up all valid number of data rows with valid feature data. If this number equals to the total number of data rows, all data rows are valid for this feature. Otherwise, I will print out number of (nonzero) data rows whose feature values are not valid and do more investigation on this feature."
   ]
  },
  {
   "cell_type": "code",
   "execution_count": 38,
   "metadata": {
    "collapsed": false
   },
   "outputs": [
    {
     "name": "stdout",
     "output_type": "stream",
     "text": [
      "Basic information of titanic data frame: \n",
      "<class 'pandas.core.frame.DataFrame'>\n",
      "RangeIndex: 891 entries, 0 to 890\n",
      "Data columns (total 9 columns):\n",
      "Survived    891 non-null int64\n",
      "Pclass      891 non-null int64\n",
      "Sex         891 non-null object\n",
      "Age         714 non-null float64\n",
      "SibSp       891 non-null int64\n",
      "Parch       891 non-null int64\n",
      "Fare        891 non-null float64\n",
      "Cabin       204 non-null object\n",
      "Embarked    889 non-null object\n",
      "dtypes: float64(2), int64(4), object(3)\n",
      "memory usage: 62.7+ KB\n",
      "---------------------------------------------------------------------------------------------------------------\n",
      "Survived column consists of only 1 and 0, as a result, it is valid!\n",
      "Result is True. Pclass column consists of only valid 1, 2, 3 values according to Kaggle document.\n",
      "True\n",
      "Sex consists of only male and female values.\n",
      "Age contains 177 NaN!\n",
      "I will not deal with NaN value of age, instead, I will drop unvalid data rows when analyze age related features.\n",
      "Result is True. All data in SibSp are valid.\n",
      "Result is True. All data in Parch are valid.\n",
      "Result is True. All data in Fare are valid.\n",
      "Percentage of NaN (0.771044) is too high for data of Cabin, so I simple drop this feature.\n",
      "Embarded contains 2 unvalid data besides C, Q and S according to Kaggle document.\n",
      "Percentage of unvalid Embarded data (0.000224) is too low, as a result, I simply drop data rows with unvalid Embarded data.\n",
      "---------------------------------------------------------------------------------------------------------------\n",
      "The following is titanic data after current stage of data cleaning:\n"
     ]
    },
    {
     "data": {
      "text/html": [
       "<div>\n",
       "<table border=\"1\" class=\"dataframe\">\n",
       "  <thead>\n",
       "    <tr style=\"text-align: right;\">\n",
       "      <th></th>\n",
       "      <th>Survived</th>\n",
       "      <th>Pclass</th>\n",
       "      <th>Sex</th>\n",
       "      <th>Age</th>\n",
       "      <th>SibSp</th>\n",
       "      <th>Parch</th>\n",
       "      <th>Fare</th>\n",
       "      <th>Embarked</th>\n",
       "    </tr>\n",
       "  </thead>\n",
       "  <tbody>\n",
       "    <tr>\n",
       "      <th>0</th>\n",
       "      <td>False</td>\n",
       "      <td>3</td>\n",
       "      <td>male</td>\n",
       "      <td>22.0</td>\n",
       "      <td>1</td>\n",
       "      <td>0</td>\n",
       "      <td>7.2500</td>\n",
       "      <td>S</td>\n",
       "    </tr>\n",
       "    <tr>\n",
       "      <th>1</th>\n",
       "      <td>True</td>\n",
       "      <td>1</td>\n",
       "      <td>female</td>\n",
       "      <td>38.0</td>\n",
       "      <td>1</td>\n",
       "      <td>0</td>\n",
       "      <td>71.2833</td>\n",
       "      <td>C</td>\n",
       "    </tr>\n",
       "    <tr>\n",
       "      <th>2</th>\n",
       "      <td>True</td>\n",
       "      <td>3</td>\n",
       "      <td>female</td>\n",
       "      <td>26.0</td>\n",
       "      <td>0</td>\n",
       "      <td>0</td>\n",
       "      <td>7.9250</td>\n",
       "      <td>S</td>\n",
       "    </tr>\n",
       "    <tr>\n",
       "      <th>3</th>\n",
       "      <td>True</td>\n",
       "      <td>1</td>\n",
       "      <td>female</td>\n",
       "      <td>35.0</td>\n",
       "      <td>1</td>\n",
       "      <td>0</td>\n",
       "      <td>53.1000</td>\n",
       "      <td>S</td>\n",
       "    </tr>\n",
       "    <tr>\n",
       "      <th>4</th>\n",
       "      <td>False</td>\n",
       "      <td>3</td>\n",
       "      <td>male</td>\n",
       "      <td>35.0</td>\n",
       "      <td>0</td>\n",
       "      <td>0</td>\n",
       "      <td>8.0500</td>\n",
       "      <td>S</td>\n",
       "    </tr>\n",
       "  </tbody>\n",
       "</table>\n",
       "</div>"
      ],
      "text/plain": [
       "  Survived  Pclass     Sex   Age  SibSp  Parch     Fare Embarked\n",
       "0    False       3    male  22.0      1      0   7.2500        S\n",
       "1     True       1  female  38.0      1      0  71.2833        C\n",
       "2     True       3  female  26.0      0      0   7.9250        S\n",
       "3     True       1  female  35.0      1      0  53.1000        S\n",
       "4    False       3    male  35.0      0      0   8.0500        S"
      ]
     },
     "execution_count": 38,
     "metadata": {},
     "output_type": "execute_result"
    }
   ],
   "source": [
    "# Get basic info including data types of titanic_first DataFrame\n",
    "print 'Basic information of titanic data frame: '\n",
    "titanic_df.info()\n",
    "print '---------------------------------------------------------------------------------------------------------------'\n",
    "\n",
    "# Test whether all 'Survived' data are valid\n",
    "is_valid_survived = len(titanic_df[titanic_df['Survived'] == 0]) + len(titanic_df[titanic_df['Survived'] == 1]) == len(titanic_df)\n",
    "print 'Survived column consists of only 1 and 0, as a result, it is valid!'\n",
    "# Change data format of feature 'Survived' from int to bool\n",
    "titanic_df['Survived'] = titanic_df['Survived'].astype('bool')\n",
    "\n",
    "# Test whether all 'Pclass' data are valid\n",
    "isValid_Pclass = len(titanic_df[titanic_df['Pclass'] == 1]) + len(titanic_df[titanic_df['Pclass'] == 2]) + len(titanic_df[titanic_df['Pclass'] == 3]) == len(titanic_df)\n",
    "print 'Result is %r. Pclass column consists of only valid 1, 2, 3 values according to Kaggle document.' % (isValid_Pclass)\n",
    "\n",
    "# Test 'Sex' feature and change its type from string to bool\n",
    "print len(titanic_df[titanic_df['Sex'] == 'male']) + len(titanic_df[titanic_df['Sex'] == 'female']) == len(titanic_df)\n",
    "print 'Sex consists of only male and female values.'\n",
    "# titanic_df['Sex'] = titanic_df['Sex'] == 'male'\n",
    "\n",
    "# Test 'Age' feature\n",
    "num_not_valid_age = num_not_valid('Age')\n",
    "print 'Age contains {0:2d} NaN!'.format(num_not_valid_age)\n",
    "print 'I will not deal with NaN value of age, instead, I will drop unvalid data rows when analyze age related features.'\n",
    "\n",
    "# Test 'SibSp' feature\n",
    "is_valid_SibSp = num_not_valid('SibSp') == 0\n",
    "print 'Result is %r. All data in SibSp are valid.' % (is_valid_SibSp)\n",
    "# Test 'Parch' feature\n",
    "is_valid_Parch = num_not_valid('Parch') == 0\n",
    "print 'Result is %r. All data in Parch are valid.' % (is_valid_Parch)\n",
    "# Test 'Fare' feature\n",
    "is_valid_Fare = num_not_valid('Fare') == 0\n",
    "print 'Result is %r. All data in Fare are valid.' % (is_valid_Fare)\n",
    "\n",
    "# Test 'Cabin' feature\n",
    "invalid_rate_Cabin = titanic_df['Cabin'].isnull().sum() * 1.0 / len(titanic_df)\n",
    "titanic_df = titanic_df.drop(['Cabin'], axis = 1)\n",
    "print 'Percentage of NaN ({0:f}) is too high for data of Cabin, so I simple drop this feature.'.format(invalid_rate_Cabin)\n",
    "\n",
    "# Test Embarked feature\n",
    "num_invalid_Embarked = len(titanic_df) - len(titanic_df[titanic_df['Embarked'] == 'C']) - len(titanic_df[titanic_df['Embarked'] == 'Q']) - len(titanic_df[titanic_df['Embarked'] == 'S'])\n",
    "print 'Embarded contains {0:d} unvalid data besides C, Q and S according to Kaggle document.'.format(num_invalid_Embarked)\n",
    "percentage_unvalid_Embarked = (len(titanic_df) - len(titanic_df[titanic_df['Embarked'] == 'C']) - len(titanic_df[titanic_df['Embarked'] == 'Q']) - len(titanic_df[titanic_df['Embarked'] == 'S'])) * 0.1 / len(titanic_df)\n",
    "titanic_df = titanic_df[(titanic_df['Embarked'] == 'C')|(titanic_df['Embarked'] == 'Q')|(titanic_df['Embarked'] == 'S')]\n",
    "print 'Percentage of unvalid Embarded data ({0:f}) is too low, as a result, I simply drop data rows with unvalid Embarded data.'.format(percentage_unvalid_Embarked)\n",
    "print '---------------------------------------------------------------------------------------------------------------'\n",
    "\n",
    "# Display current cleaned data\n",
    "print 'The following is titanic data after current stage of data cleaning:'\n",
    "titanic_df.head()"
   ]
  },
  {
   "cell_type": "markdown",
   "metadata": {},
   "source": [
    "In the following blocks of code, I will use the following features - **Pclass**, **SibSp**, **Parch**, **Fare** to find their relationship with dependent variable - **Survived**."
   ]
  },
  {
   "cell_type": "markdown",
   "metadata": {},
   "source": [
    "# Investigate Pclass and Fare"
   ]
  },
  {
   "cell_type": "markdown",
   "metadata": {},
   "source": [
    "I believe the higher the class of passengers, the more fare passengers will spent. Next I will investigate relationship between **Pclass** and **Fare**."
   ]
  },
  {
   "cell_type": "code",
   "execution_count": 39,
   "metadata": {
    "collapsed": false
   },
   "outputs": [
    {
     "name": "stdout",
     "output_type": "stream",
     "text": [
      "---------------------------------------------------------------------------------------------------------------\n",
      "Lowest Class:\n",
      "       Pclass        Fare\n",
      "count   491.0  491.000000\n",
      "mean      3.0   13.675550\n",
      "std       0.0   11.778142\n",
      "min       3.0    0.000000\n",
      "25%       3.0    7.750000\n",
      "50%       3.0    8.050000\n",
      "75%       3.0   15.500000\n",
      "max       3.0   69.550000\n"
     ]
    }
   ],
   "source": [
    "# Analyze of Pclass and Fare features\n",
    "pclass_fare_data = titanic_df[['Pclass', 'Fare']]\n",
    "\n",
    "# Calculate statistics for three kinds of Pclass\n",
    "class_three = pclass_fare_data[pclass_fare_data['Pclass'] == 3]\n",
    "class_two = pclass_fare_data[pclass_fare_data['Pclass'] == 2]\n",
    "class_one = pclass_fare_data[pclass_fare_data['Pclass'] == 1]\n",
    "\n",
    "print '---------------------------------------------------------------------------------------------------------------'\n",
    "# Statistic info of Lowest Class\n",
    "print 'Lowest Class:'\n",
    "print class_three.describe()"
   ]
  },
  {
   "cell_type": "code",
   "execution_count": 40,
   "metadata": {
    "collapsed": false
   },
   "outputs": [
    {
     "name": "stdout",
     "output_type": "stream",
     "text": [
      "Middle Class:\n",
      "       Pclass        Fare\n",
      "count   184.0  184.000000\n",
      "mean      2.0   20.662183\n",
      "std       0.0   13.417399\n",
      "min       2.0    0.000000\n",
      "25%       2.0   13.000000\n",
      "50%       2.0   14.250000\n",
      "75%       2.0   26.000000\n",
      "max       2.0   73.500000\n"
     ]
    }
   ],
   "source": [
    "# Statistic info of Middle Class\n",
    "print 'Middle Class:'\n",
    "print class_two.describe()"
   ]
  },
  {
   "cell_type": "code",
   "execution_count": 41,
   "metadata": {
    "collapsed": false
   },
   "outputs": [
    {
     "name": "stdout",
     "output_type": "stream",
     "text": [
      "Highest Class:\n",
      "       Pclass        Fare\n",
      "count   214.0  214.000000\n",
      "mean      1.0   84.193516\n",
      "std       0.0   78.746457\n",
      "min       1.0    0.000000\n",
      "25%       1.0   30.771850\n",
      "50%       1.0   58.689600\n",
      "75%       1.0   93.500000\n",
      "max       1.0  512.329200\n"
     ]
    }
   ],
   "source": [
    "# Statistic info of Highest Class\n",
    "print 'Highest Class:'\n",
    "print class_one.describe()"
   ]
  },
  {
   "cell_type": "markdown",
   "metadata": {},
   "source": [
    "It can be concluded that there are huge differeces of average and median fare value between three classes. And I also calculate correlation between **Pclass** and **Fare**:"
   ]
  },
  {
   "cell_type": "code",
   "execution_count": 42,
   "metadata": {
    "collapsed": true
   },
   "outputs": [],
   "source": [
    "# Defined for pearson correlation implemented in Udacity class \n",
    "def correlation(x, y):\n",
    "    '''\n",
    "    correlation = average of (x in standard units) times (y in standard units)\n",
    "    '''\n",
    "    x_std_unit = (x - x.mean()) / x.std(ddof=0)\n",
    "    y_std_unit = (y - y.mean()) / y.std(ddof=0)\n",
    "    return (x_std_unit * y_std_unit).mean()"
   ]
  },
  {
   "cell_type": "code",
   "execution_count": 43,
   "metadata": {
    "collapsed": false
   },
   "outputs": [
    {
     "name": "stdout",
     "output_type": "stream",
     "text": [
      "The correlation between pclass and fare is -0.548193.\n"
     ]
    },
    {
     "data": {
      "text/plain": [
       "<matplotlib.text.Text at 0x118e0d290>"
      ]
     },
     "execution_count": 43,
     "metadata": {},
     "output_type": "execute_result"
    },
    {
     "data": {
      "image/png": "[encoded data removed]",
      "text/plain": [
       "<matplotlib.figure.Figure at 0x118bbb510>"
      ]
     },
     "metadata": {},
     "output_type": "display_data"
    }
   ],
   "source": [
    "# Calculate correlation between pclass and fare and make graph for pclass_fare_data\n",
    "corr_pclass_fare = correlation(pclass_fare_data['Pclass'], pclass_fare_data['Fare'])\n",
    "print 'The correlation between pclass and fare is {0:f}.'.format(corr_pclass_fare)\n",
    "sns.regplot(x = \"Fare\", y = \"Pclass\", data = pclass_fare_data)\n",
    "ax = plt.axes()\n",
    "ax.set_title('Pclass vs Fare')"
   ]
  },
  {
   "cell_type": "markdown",
   "metadata": {},
   "source": [
    "## Summary:"
   ]
  },
  {
   "cell_type": "markdown",
   "metadata": {},
   "source": [
    "From correlation value between **Pclass** and **Fare**, it can be concluded that: <br /> \n",
    "* The higher class (the lower number of class), the higher fare. \n",
    "* The regression plot offer me the same conclusion. \n",
    "* Since these two features are similar, I will only take **Pclass** into account and drop **Fare** feature."
   ]
  },
  {
   "cell_type": "code",
   "execution_count": 44,
   "metadata": {
    "collapsed": false
   },
   "outputs": [
    {
     "data": {
      "text/html": [
       "<div>\n",
       "<table border=\"1\" class=\"dataframe\">\n",
       "  <thead>\n",
       "    <tr style=\"text-align: right;\">\n",
       "      <th></th>\n",
       "      <th>Survived</th>\n",
       "      <th>Pclass</th>\n",
       "      <th>Sex</th>\n",
       "      <th>Age</th>\n",
       "      <th>SibSp</th>\n",
       "      <th>Parch</th>\n",
       "      <th>Embarked</th>\n",
       "    </tr>\n",
       "  </thead>\n",
       "  <tbody>\n",
       "    <tr>\n",
       "      <th>0</th>\n",
       "      <td>False</td>\n",
       "      <td>3</td>\n",
       "      <td>male</td>\n",
       "      <td>22.0</td>\n",
       "      <td>1</td>\n",
       "      <td>0</td>\n",
       "      <td>S</td>\n",
       "    </tr>\n",
       "    <tr>\n",
       "      <th>1</th>\n",
       "      <td>True</td>\n",
       "      <td>1</td>\n",
       "      <td>female</td>\n",
       "      <td>38.0</td>\n",
       "      <td>1</td>\n",
       "      <td>0</td>\n",
       "      <td>C</td>\n",
       "    </tr>\n",
       "    <tr>\n",
       "      <th>2</th>\n",
       "      <td>True</td>\n",
       "      <td>3</td>\n",
       "      <td>female</td>\n",
       "      <td>26.0</td>\n",
       "      <td>0</td>\n",
       "      <td>0</td>\n",
       "      <td>S</td>\n",
       "    </tr>\n",
       "    <tr>\n",
       "      <th>3</th>\n",
       "      <td>True</td>\n",
       "      <td>1</td>\n",
       "      <td>female</td>\n",
       "      <td>35.0</td>\n",
       "      <td>1</td>\n",
       "      <td>0</td>\n",
       "      <td>S</td>\n",
       "    </tr>\n",
       "    <tr>\n",
       "      <th>4</th>\n",
       "      <td>False</td>\n",
       "      <td>3</td>\n",
       "      <td>male</td>\n",
       "      <td>35.0</td>\n",
       "      <td>0</td>\n",
       "      <td>0</td>\n",
       "      <td>S</td>\n",
       "    </tr>\n",
       "  </tbody>\n",
       "</table>\n",
       "</div>"
      ],
      "text/plain": [
       "  Survived  Pclass     Sex   Age  SibSp  Parch Embarked\n",
       "0    False       3    male  22.0      1      0        S\n",
       "1     True       1  female  38.0      1      0        C\n",
       "2     True       3  female  26.0      0      0        S\n",
       "3     True       1  female  35.0      1      0        S\n",
       "4    False       3    male  35.0      0      0        S"
      ]
     },
     "execution_count": 44,
     "metadata": {},
     "output_type": "execute_result"
    }
   ],
   "source": [
    "# Drop Fare feature\n",
    "titanic_df = titanic_df.drop(['Fare'], axis = 1)\n",
    "titanic_df.head()"
   ]
  },
  {
   "cell_type": "markdown",
   "metadata": {},
   "source": [
    "# Compare Pclass and Survival Rate"
   ]
  },
  {
   "cell_type": "markdown",
   "metadata": {},
   "source": [
    "Intuitively, I believe the higher class, the higher survival rate because passengers in higher pclass should have some kind of higher priority of be saved by saving boat. In next part, I will illustrate this.  "
   ]
  },
  {
   "cell_type": "code",
   "execution_count": 45,
   "metadata": {
    "collapsed": false
   },
   "outputs": [
    {
     "data": {
      "text/plain": [
       "<seaborn.axisgrid.FacetGrid at 0x118f44b90>"
      ]
     },
     "execution_count": 45,
     "metadata": {},
     "output_type": "execute_result"
    },
    {
     "data": {
      "image/png": "[encoded data removed]",
      "text/plain": [
       "<matplotlib.figure.Figure at 0x118f44c10>"
      ]
     },
     "metadata": {},
     "output_type": "display_data"
    }
   ],
   "source": [
    "# Draw graphs on suvival rate vs Pclass.\n",
    "ax = sns.factorplot('Pclass','Survived', order = [1,2,3], data = titanic_df, size = 5)\n",
    "sns.plt.title('Pclass vs Survival Rate')\n",
    "ax.set(xlabel='Pclass', ylabel='Survival Rate')"
   ]
  },
  {
   "cell_type": "markdown",
   "metadata": {},
   "source": [
    "To dig deeper into relationship between **Pclass** and **Survived**, I will find correlation between pclass and its accordingly survival rate."
   ]
  },
  {
   "cell_type": "code",
   "execution_count": 46,
   "metadata": {
    "collapsed": false
   },
   "outputs": [
    {
     "name": "stdout",
     "output_type": "stream",
     "text": [
      "The correlation between pclass and survival rate is -0.993337779574.\n"
     ]
    }
   ],
   "source": [
    "# Calculate correlation between pclass and survival rate\n",
    "class1_surv = titanic_df[titanic_df['Pclass'] == 1]['Survived'].mean()\n",
    "class2_surv = titanic_df[titanic_df['Pclass'] == 2]['Survived'].mean()\n",
    "class3_surv = titanic_df[titanic_df['Pclass'] == 3]['Survived'].mean()\n",
    "class_surv = np.array([class1_surv, class2_surv, class3_surv])\n",
    "class_num = np.array([1, 2, 3])\n",
    "corr_pclass_surv = correlation(class_surv, class_num)\n",
    "print 'The correlation between pclass and survival rate is ' + format(corr_pclass_surv) + '.'"
   ]
  },
  {
   "cell_type": "markdown",
   "metadata": {},
   "source": [
    "Next I will use chi squared function to test independence between **Pclass** and **Survived**."
   ]
  },
  {
   "cell_type": "code",
   "execution_count": 47,
   "metadata": {
    "collapsed": false
   },
   "outputs": [
    {
     "name": "stdout",
     "output_type": "stream",
     "text": [
      "p-value:  1.18136247855e-22\n",
      "Chi-squared score:  100.980407261\n",
      "Expected values:  [[  81.8447694   70.3712036  187.784027 ]\n",
      " [ 132.1552306  113.6287964  303.215973 ]]\n"
     ]
    }
   ],
   "source": [
    "# Calculate both survived and unsurvived number in each three classes\n",
    "num_class_one_survived = len(titanic_df[(titanic_df['Pclass'] == 1) & (titanic_df['Survived'] == True)])\n",
    "num_class_two_survived = len(titanic_df[(titanic_df['Pclass'] == 2) & (titanic_df['Survived'] == True)])\n",
    "num_class_three_survived = len(titanic_df[(titanic_df['Pclass'] == 3) & (titanic_df['Survived'] == True)])\n",
    "num_class_one_unsurvived = len(titanic_df[(titanic_df['Pclass'] == 1) & (titanic_df['Survived'] == False)])\n",
    "num_class_two_unsurvived = len(titanic_df[(titanic_df['Pclass'] == 2) & (titanic_df['Survived'] == False)])\n",
    "num_class_three_unsurvived = len(titanic_df[(titanic_df['Pclass'] == 3) & (titanic_df['Survived'] == False)])\n",
    "\n",
    "# Calculate Chi-squared\n",
    "array = np.array([[num_class_one_survived, num_class_two_survived, num_class_three_survived], \\\n",
    "                [num_class_one_unsurvived, num_class_two_unsurvived, num_class_three_unsurvived]])\n",
    "chi2, p, dof, ex = sp.chi2_contingency(array, correction=False)\n",
    "print \"p-value: \", p\n",
    "print \"Chi-squared score: \", chi2\n",
    "print \"Expected values: \", ex"
   ]
  },
  {
   "cell_type": "markdown",
   "metadata": {},
   "source": [
    "Running the chi squared function from scipy below, we see that the p-value is far smaller than 0.05. Therefore, I reject the null hypothesis -- survival and pclass are not related. From previous correlation, it can be clearly concluded that there is a direct relationship between **Pclass** and **Survive**."
   ]
  },
  {
   "cell_type": "markdown",
   "metadata": {},
   "source": [
    "## Summary:"
   ]
  },
  {
   "cell_type": "markdown",
   "metadata": {},
   "source": [
    "It is really interesting that Pclass will influence the survival rate. I believe this is due to the money gap spent by tickets between passengers in different pclass. For example, it may contains priority of being saved by saving boats when disaster happens. Or it may be related only to social status? <br />\n",
    "In this part, I use three ways to confirm strong relationship between **Pclass** and **Survive**: <br />\n",
    "* Factor plot graph \n",
    "* Correlation result\n",
    "* Chi-squrared result"
   ]
  },
  {
   "cell_type": "markdown",
   "metadata": {},
   "source": [
    "# Compare Age and Survival Rate"
   ]
  },
  {
   "cell_type": "markdown",
   "metadata": {},
   "source": [
    "Next I will deal with relationship between **Age** and **Survival**.<br />\n",
    "In the following graph, I calculate survival rate aggregated by each distinct valid age and draw bar graph according to those survival rates are higher than 50%."
   ]
  },
  {
   "cell_type": "code",
   "execution_count": 48,
   "metadata": {
    "collapsed": false
   },
   "outputs": [
    {
     "data": {
      "text/plain": [
       "[<matplotlib.text.Text at 0x119969a90>, <matplotlib.text.Text at 0x117d4ee10>]"
      ]
     },
     "execution_count": 48,
     "metadata": {},
     "output_type": "execute_result"
    },
    {
     "data": {
      "image/png": "[encoded data removed]",
      "text/plain": [
       "<matplotlib.figure.Figure at 0x118f034d0>"
      ]
     },
     "metadata": {},
     "output_type": "display_data"
    }
   ],
   "source": [
    "# Parse float to nearest integer, used to format age for a more clear x-axle value.\n",
    "def parse_float_to_int(f):\n",
    "    return int(round(f))\n",
    "titanic_age_relate = titanic_df[titanic_df['Age'] >= 0]\n",
    "titanic_age_relate.loc[:, 'Age'] = titanic_age_relate.loc[:, 'Age'].apply(parse_float_to_int)\n",
    "\n",
    "# Draw bar graph \n",
    "average_age = titanic_age_relate[[\"Age\", \"Survived\"]].groupby(['Age'], as_index = False).mean()\n",
    "average_age = average_age[average_age['Survived'] > 0.5]\n",
    "ax = sns.barplot(x = 'Age', y = 'Survived', data = average_age)\n",
    "sns.plt.title('Age vs Survival Rate')\n",
    "ax.set(xlabel='Age', ylabel='Survival Rate (>0.5)')"
   ]
  },
  {
   "cell_type": "markdown",
   "metadata": {},
   "source": [
    "From Age vs survival rate graph, it can be concluded that passengers with higher age (>= 50) and those with lower age (<= 14) trend to have a higher survival rate as an age group. Next I will use correlation to show age groups' relationship with survival rate. "
   ]
  },
  {
   "cell_type": "code",
   "execution_count": 49,
   "metadata": {
    "collapsed": false
   },
   "outputs": [
    {
     "name": "stdout",
     "output_type": "stream",
     "text": [
      "The correlation between pclass and survival rate is -0.876734219815.\n"
     ]
    }
   ],
   "source": [
    "# Calculate correlation between age and survival rate\n",
    "young_surv = titanic_age_relate[titanic_age_relate['Age'] <= 14]['Survived'].mean()\n",
    "middle_surv = titanic_age_relate[(titanic_age_relate['Age'] >= 15) & (titanic_age_relate['Age'] < 50)]['Survived'].mean()\n",
    "old_surv = titanic_age_relate[titanic_age_relate['Age'] >= 50]['Survived'].mean()\n",
    "age_surv = np.array([young_surv, middle_surv, old_surv])\n",
    "age_level = np.array([7, 31, 65]) # Middle of each range of age.\n",
    "corr_age_surv = correlation(age_surv, age_level)\n",
    "print 'The correlation between pclass and survival rate is ' + format(corr_age_surv) + '.'"
   ]
  },
  {
   "cell_type": "code",
   "execution_count": 50,
   "metadata": {
    "collapsed": false
   },
   "outputs": [
    {
     "name": "stdout",
     "output_type": "stream",
     "text": [
      "The correlation between pclass and survival rate is -0.335020940255.\n"
     ]
    }
   ],
   "source": [
    "# Calculate direct correlation between age and survived or not\n",
    "average_all_age = titanic_age_relate[[\"Age\", \"Survived\"]].groupby(['Age'], as_index = False).mean()\n",
    "age = average_all_age['Age']\n",
    "survived = average_all_age['Survived']\n",
    "corr_age_surv = correlation(age, survived)\n",
    "print 'The correlation between pclass and survival rate is ' + format(corr_age_surv) + '.'"
   ]
  },
  {
   "cell_type": "markdown",
   "metadata": {},
   "source": [
    "From previous two correlation calculation, it can be concluded that although three group of ages (young, middle and old) are closely correlated with survival rate, independent age is not that clearly correlated with survival rate. In order to explain it. I will explore extreme values of survival rates."
   ]
  },
  {
   "cell_type": "code",
   "execution_count": 51,
   "metadata": {
    "collapsed": false
   },
   "outputs": [
    {
     "name": "stdout",
     "output_type": "stream",
     "text": [
      "Ages with one survival rate:\n",
      "0      0\n",
      "5      5\n",
      "12    12\n",
      "13    13\n",
      "53    53\n",
      "63    63\n",
      "70    80\n",
      "Name: Age, dtype: int64\n",
      "Ages with one survival rate's passenger number:\n",
      "   Age  Survived\n",
      "0    0         1\n",
      "1    5         1\n",
      "2   12         1\n",
      "3   13         1\n",
      "4   53         1\n",
      "5   63         1\n",
      "6   80         1\n",
      "Ages with zero survival rate:\n",
      "10    10\n",
      "46    46\n",
      "57    57\n",
      "59    59\n",
      "61    61\n",
      "64    64\n",
      "65    65\n",
      "66    66\n",
      "67    70\n",
      "68    71\n",
      "69    74\n",
      "Name: Age, dtype: int64\n",
      "Ages with zero survival rate/'s passenger number:\n",
      "    Age  Survived\n",
      "0    10         1\n",
      "1    46         1\n",
      "2    57         1\n",
      "3    59         1\n",
      "4    61         1\n",
      "5    64         1\n",
      "6    65         1\n",
      "7    66         1\n",
      "8    70         1\n",
      "9    71         1\n",
      "10   74         1\n",
      "---------------------------------------------------------------------------------------------------------------\n"
     ]
    }
   ],
   "source": [
    "# Find age whose survival rate equals one\n",
    "age_surv_rate_one = average_all_age[average_all_age['Survived'] == 1]['Age']\n",
    "print 'Ages with one survival rate:'\n",
    "print age_surv_rate_one\n",
    "num_passengers_of_age = average_all_age[(average_all_age['Age'] == 0) | \\\n",
    "                                        (average_all_age['Age'] == 5) | \\\n",
    "                                        (average_all_age['Age'] == 12) | \\\n",
    "                                        (average_all_age['Age'] == 13) | \\\n",
    "                                        (average_all_age['Age'] == 53) | \\\n",
    "                                        (average_all_age['Age'] == 63) | \\\n",
    "                                        (average_all_age['Age'] == 80)].groupby(['Age'], as_index = False).count()\n",
    "print \"Ages with one survival rate's passenger number:\"\n",
    "print num_passengers_of_age\n",
    "\n",
    "# Find age whose survival rate equals zero\n",
    "age_surv_rate_zero = average_all_age[average_all_age['Survived'] == 0]['Age']\n",
    "print 'Ages with zero survival rate:'\n",
    "print age_surv_rate_zero\n",
    "num_passengers_of_age = average_all_age[(average_all_age['Age'] == 10) | \\\n",
    "                                        (average_all_age['Age'] == 46) | \\\n",
    "                                        (average_all_age['Age'] == 57) | \\\n",
    "                                        (average_all_age['Age'] == 59) | \\\n",
    "                                        (average_all_age['Age'] == 61) | \\\n",
    "                                        (average_all_age['Age'] == 64) | \\\n",
    "                                        (average_all_age['Age'] == 65) | \\\n",
    "                                        (average_all_age['Age'] == 66) | \\\n",
    "                                        (average_all_age['Age'] == 70) | \\\n",
    "                                        (average_all_age['Age'] == 71) | \\\n",
    "                                        (average_all_age['Age'] == 74)].groupby(['Age'], as_index = False).count()\n",
    "print \"Ages with zero survival rate/'s passenger number:\"\n",
    "print num_passengers_of_age\n",
    "print '---------------------------------------------------------------------------------------------------------------'"
   ]
  },
  {
   "cell_type": "markdown",
   "metadata": {},
   "source": [
    "It can be seen that Age whose survival rate is 1 or 0 only contains one passenger. This may totally result in LUCKY! As a result, the limitation for distinct age group is that for some specific age, there are only few passenger. This means sample for this specific age to calculate survival rate is not enough."
   ]
  },
  {
   "cell_type": "markdown",
   "metadata": {},
   "source": [
    "## Summary:"
   ]
  },
  {
   "cell_type": "markdown",
   "metadata": {},
   "source": [
    "The following is final result on relationship between **Age** and Survival rate: <br />\n",
    "* There are some distinct age which contains only one data, so it is better to use age group to anaylze data;\n",
    "* I group all ages according to their survival rate, if survival rate is bigger than 0.5, then I will take it into account;\n",
    "* From grouped data, it can be concluded that there is a strong relationship between age and survival rate (young, middle, old).\n",
    "* From Age vs Survival Rate graph, if do not take survival rate equals one into account, it can be concluded that younger passengers trend to survive more in percentage than older passenger which meets my anticipation. "
   ]
  },
  {
   "cell_type": "markdown",
   "metadata": {},
   "source": [
    "# Compare Sibsp&Parch and Survival rate"
   ]
  },
  {
   "cell_type": "markdown",
   "metadata": {},
   "source": [
    "Next I will find relationship between **SibSp**, **Parch** and survival rate. <br /> \n",
    "The following graphs are used to compare relationships between each individual number of both **SibSp** and **Parch** with survival rates."
   ]
  },
  {
   "cell_type": "code",
   "execution_count": 62,
   "metadata": {
    "collapsed": false
   },
   "outputs": [
    {
     "name": "stdout",
     "output_type": "stream",
     "text": [
      "Unique values for SibSp: \n",
      "[0 1 2 3 4 5 8]\n",
      "Unique values for Parch:\n",
      "[0 1 2 3 4 5 6]\n"
     ]
    },
    {
     "data": {
      "text/plain": [
       "[<matplotlib.text.Text at 0x118edd490>, <matplotlib.text.Text at 0x118f638d0>]"
      ]
     },
     "execution_count": 62,
     "metadata": {},
     "output_type": "execute_result"
    },
    {
     "data": {
      "image/png": "[encoded data removed]",
      "text/plain": [
       "<matplotlib.figure.Figure at 0x11a28e510>"
      ]
     },
     "metadata": {},
     "output_type": "display_data"
    },
    {
     "data": {
      "image/png": "[encoded data removed]",
      "text/plain": [
       "<matplotlib.figure.Figure at 0x11a97d890>"
      ]
     },
     "metadata": {},
     "output_type": "display_data"
    }
   ],
   "source": [
    "# Find unique values for both SibSp and Parch\n",
    "unique_sibsp = np.sort(titanic_df['SibSp'].unique())\n",
    "print 'Unique values for SibSp: '\n",
    "print unique_sibsp\n",
    "unique_parch = np.sort(titanic_df['Parch'].unique())\n",
    "print 'Unique values for Parch:'\n",
    "print unique_parch\n",
    "\n",
    "# Draw graphs\n",
    "relatives_sur = titanic_df[['Survived', 'SibSp', 'Parch']]\n",
    "sibsp_sur = relatives_sur.groupby(['SibSp'], as_index = False).mean()\n",
    "parch_sur = relatives_sur.groupby(['Parch'], as_index = False).mean()\n",
    "sns.factorplot('SibSp','Survived', order = [0, 1, 2, 3, 4, 5, 8], data = sibsp_sur, size = 5)\n",
    "sns.plt.title('SibSp vs Survival Rate')\n",
    "ax.set(xlabel='SibSp', ylabel='Survival Rate')\n",
    "sns.factorplot('Parch','Survived', order = [0, 1, 2, 3, 4, 5, 6], data = parch_sur, size = 5)\n",
    "sns.plt.title('Parch vs Survival Rate')\n",
    "ax.set(xlabel='Parch', ylabel='Survival Rate')"
   ]
  },
  {
   "cell_type": "markdown",
   "metadata": {},
   "source": [
    "It can be concluded from previous two graphs that passengers who took less **SibSp** or **Parch** but not zero will have a bigger chance to survive. This phenomena may relate to \"Women and Children First\" discipline."
   ]
  },
  {
   "cell_type": "markdown",
   "metadata": {},
   "source": [
    "# Conclusion:"
   ]
  },
  {
   "cell_type": "markdown",
   "metadata": {},
   "source": [
    "## Limits:"
   ]
  },
  {
   "cell_type": "code",
   "execution_count": 61,
   "metadata": {
    "collapsed": false
   },
   "outputs": [
    {
     "name": "stdout",
     "output_type": "stream",
     "text": [
      "Total female rate: 0.350956130484\n",
      "Total survival rate: 0.382452193476\n"
     ]
    }
   ],
   "source": [
    "# Show bias of total percentage of female and survival rate\n",
    "print 'Total female rate: ' + str(len(titanic_df[titanic_df['Sex'] == 'female']) * 1.0 / len(titanic_df))\n",
    "print 'Total survival rate: ' + str(len(titanic_df[titanic_df['Survived'] == True]) * 1.0 / len(titanic_df))"
   ]
  },
  {
   "cell_type": "markdown",
   "metadata": {},
   "source": [
    "There are several limitations related to this dataset as follows: <br />\n",
    "* There are more than 170 data with NaN age values compared with totally less than 900 data. Since age is an important predictor as described in previous section. The valid age data sample is not big enough;\n",
    "* In process of data cleaning, I dropped serveral non-informative columns. I believe if more features such as is seaman or not, passengers' height, passengers' weight are all features that may play good roles with survival rate;\n",
    "* There are multiple bias in this dataset. Firstly, the percentage of female is much less than 0.5; Secondly, the survived rate is too high - 0.38. It is understandable that this data mainly come from those who survived and those survived's relatives. However, this will cause a bias on those who do not survived. "
   ]
  },
  {
   "cell_type": "markdown",
   "metadata": {},
   "source": [
    "## Features vs Survival Rate"
   ]
  },
  {
   "cell_type": "markdown",
   "metadata": {},
   "source": [
    "In this report, I explore **Pclass**, **Age**, **Sibsp&Parch** as potential factors which will influence survival rate. <br />\n",
    "* Pclass - It is usually considered Pclass is related to passengers' social status. Will social status influence ones' survival rate in a disaster? From this data, I use graph, correlation value and chi-squared value to prove the strong relationship between pclass and survival rate. So the answer to this question should be yes.   \n",
    "* Age - Age can only be considered as a group to avoid single sample problem mentioned in previous blocks. As a result, I decomposed ages into three groups - young, middle and old. Through graph, correlation value, it can be concluded that if divided into these three groups, age plays an important role in survival rate.\n",
    "* Sibsp&Parch - I use two graphs to show that those passengers who had small number but not zero of relatives on board will have a higher chance of survival. This may relates to \"Women and Children First\" principle."
   ]
  },
  {
   "cell_type": "markdown",
   "metadata": {},
   "source": [
    "## Pclass vs Fare"
   ]
  },
  {
   "cell_type": "markdown",
   "metadata": {},
   "source": [
    "Relation between **Pclass** and **Fare** - Through regression plot, correlation value and basic static information, it can be concluded that there is a direct relationship between Pclass and Fare, e.g the higher pclass, the higher fare. This meets my expectation because usually the higher the class, the higher passengers' social status and more money they may spend on food. From this side, I can also conclude that if there is a strong relationship between pclass and fare, there should also be a strong relationship between fare and survival rate."
   ]
  },
  {
   "cell_type": "markdown",
   "metadata": {},
   "source": [
    "# Future Direction"
   ]
  },
  {
   "cell_type": "markdown",
   "metadata": {},
   "source": [
    "Future direction:\n",
    "* Take title in name into consideration to introduce another important feature that may show passengers' social status. For example, if 'miss', then unmarried.\n",
    "* Try to find relatives or even parents/children relationship between different passengers along with their survival rate according to **Sibsp** and **Parch** and previous mentioned title feature."
   ]
  }
 ],
 "metadata": {
  "anaconda-cloud": {},
  "kernelspec": {
   "display_name": "Python [default]",
   "language": "python",
   "name": "python2"
  },
  "language_info": {
   "codemirror_mode": {
    "name": "ipython",
    "version": 2
   },
   "file_extension": ".py",
   "mimetype": "text/x-python",
   "name": "python",
   "nbconvert_exporter": "python",
   "pygments_lexer": "ipython2",
   "version": "2.7.12"
  }
 },
 "nbformat": 4,
 "nbformat_minor": 0
}
